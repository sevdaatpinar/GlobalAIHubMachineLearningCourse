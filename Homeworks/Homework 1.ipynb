{
 "cells": [
  {
   "cell_type": "markdown",
   "metadata": {},
   "source": [
    "# 1) How would you define Machine Learning?\n",
    "\n",
    "Machine learning is a subset of computer programing that work without human interaction at some level. Machine learning will shorten time and workforce on daily  mundane jobs. On the other hand I belive it will open new job opportunuties."
   ]
  },
  {
   "cell_type": "markdown",
   "metadata": {},
   "source": [
    "# 2) What are the differences between Supervised and Unsupervised Learning? Specify example 3 algorithms for each of these.\n",
    "In supervised learning system is feed input and output. Examples; Lineer Regression, Logistic Regression, Desicion Tree Regression.\n",
    "On the other hand work on unlabbed data . Examples ;K- mean Algithms, Kernel Density Estimation, Convolutional Neurol Networks"
   ]
  },
  {
   "cell_type": "markdown",
   "metadata": {},
   "source": [
    "# 3) What are the test and validation set, and why would you want to use them?\n",
    "Test sets as name goes to rest the trained data.(Generally,30/70)\n",
    "Validation sets are chaged upon the number of the hyperparameter. Sometimes used for Cross validation in the traning data for big and not homogenous data.\n"
   ]
  },
  {
   "cell_type": "markdown",
   "metadata": {},
   "source": [
    "# 4) What are the main preprocessing steps? Explain them in detail. Why we need to prepare our data?\n",
    "Contolling duplicated values. \n",
    "Contolling null values.\n",
    "If needed feature scaling and outlier detection.\n",
    "Controlling features, using one-hot encoder or label encoder to change nonnumerical data.\n",
    "Spliting dataset into train and test sets."
   ]
  },
  {
   "cell_type": "markdown",
   "metadata": {},
   "source": [
    "# 5) How you can explore and analyse countionus and discrete variables?\n",
    "Visualizing with matplotlib and seaborn.(distplot, countplot,scatterplot etc.)"
   ]
  },
  {
   "cell_type": "markdown",
   "metadata": {},
   "source": [
    "# 6) Analyse the plot given below. (What is the plot and variable type, check the distribution and make comment about how you can preproccess it.)\n",
    "\n",
    "The plot is for countionus variables, it's distirubution is not normal.There is  at least 2 or 3 different class."
   ]
  }
 ],
 "metadata": {
  "kernelspec": {
   "display_name": "Python 3",
   "language": "python",
   "name": "python3"
  },
  "language_info": {
   "codemirror_mode": {
    "name": "ipython",
    "version": 3
   },
   "file_extension": ".py",
   "mimetype": "text/x-python",
   "name": "python",
   "nbconvert_exporter": "python",
   "pygments_lexer": "ipython3",
   "version": "3.7.6"
  }
 },
 "nbformat": 4,
 "nbformat_minor": 4
}
